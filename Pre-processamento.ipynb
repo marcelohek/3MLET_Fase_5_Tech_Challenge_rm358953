{
 "cells": [
  {
   "cell_type": "markdown",
   "metadata": {
    "id": "SEqAcWQamr6w"
   },
   "source": [
    "# 1. Importações"
   ]
  },
  {
   "cell_type": "code",
   "execution_count": 24,
   "metadata": {
    "executionInfo": {
     "elapsed": 30,
     "status": "ok",
     "timestamp": 1753143606062,
     "user": {
      "displayName": "Marcelo Ekami",
      "userId": "05653859940581393275"
     },
     "user_tz": 180
    },
    "id": "U5EQayI8eb5X"
   },
   "outputs": [],
   "source": [
    "import pandas as pd\n",
    "import numpy as np\n",
    "import json\n",
    "import re\n",
    "import joblib\n",
    "from sklearn.feature_extraction.text import TfidfVectorizer\n",
    "from sklearn.preprocessing import OneHotEncoder, LabelEncoder\n",
    "from datetime import datetime"
   ]
  },
  {
   "cell_type": "markdown",
   "metadata": {
    "id": "wSj6Ddh-mxtC"
   },
   "source": [
    "# 2. Função de carregamento flexível de JSON"
   ]
  },
  {
   "cell_type": "code",
   "execution_count": 25,
   "metadata": {
    "executionInfo": {
     "elapsed": 2,
     "status": "ok",
     "timestamp": 1753143607849,
     "user": {
      "displayName": "Marcelo Ekami",
      "userId": "05653859940581393275"
     },
     "user_tz": 180
    },
    "id": "bFqgnsYQfbt0"
   },
   "outputs": [],
   "source": [
    "def load_json_flexible(path):\n",
    "    \"\"\"Tenta carregar JSON padrão; em caso de erro, aplica correções e usa json5.\"\"\"\n",
    "    try:\n",
    "        with open(path, 'r', encoding='utf-8') as f:\n",
    "            return json.load(f)\n",
    "    except json.JSONDecodeError as e:\n",
    "        print(f\"JSON padrão falhou: {e}\\nAplicando correções e tentando json5...\")\n",
    "        with open(path, 'r', encoding='utf-8') as f:\n",
    "            text = f.read()\n",
    "        text = re.sub(r\",\\s*([\\]}])\", r\"\\1\", text)\n",
    "        try:\n",
    "            import json5\n",
    "        except ImportError:\n",
    "            import sys\n",
    "            !{sys.executable} -m pip install json5\n",
    "            import json5\n",
    "        return json5.loads(text)"
   ]
  },
  {
   "cell_type": "markdown",
   "metadata": {
    "id": "cltjJ0ACm3So"
   },
   "source": [
    "# 3. Carregamento e flattening de JSONs"
   ]
  },
  {
   "cell_type": "code",
   "execution_count": 26,
   "metadata": {
    "executionInfo": {
     "elapsed": 5608,
     "status": "ok",
     "timestamp": 1753143617044,
     "user": {
      "displayName": "Marcelo Ekami",
      "userId": "05653859940581393275"
     },
     "user_tz": 180
    },
    "id": "vzSQa3BXeeU0"
   },
   "outputs": [],
   "source": [
    "app_json_raw      = load_json_flexible('applicants.json')\n",
    "vagas_json_raw    = load_json_flexible('vagas.json')\n",
    "prospects_json_raw = load_json_flexible('prospects.json')"
   ]
  },
  {
   "cell_type": "markdown",
   "metadata": {
    "id": "pB9bRO2Em9XH"
   },
   "source": [
    "# 3.1 Flatten Applicants"
   ]
  },
  {
   "cell_type": "code",
   "execution_count": 27,
   "metadata": {
    "colab": {
     "base_uri": "https://localhost:8080/"
    },
    "executionInfo": {
     "elapsed": 365,
     "status": "ok",
     "timestamp": 1753143621459,
     "user": {
      "displayName": "Marcelo Ekami",
      "userId": "05653859940581393275"
     },
     "user_tz": 180
    },
    "id": "cOprZGE0fp6Q",
    "outputId": "0ff9fe03-d194-4bba-87bc-019fa69ff182"
   },
   "outputs": [
    {
     "name": "stdout",
     "output_type": "stream",
     "text": [
      "Applicants shape: (42482, 7)\n"
     ]
    }
   ],
   "source": [
    "applicants_records = []\n",
    "for code_str, data in app_json_raw.items():\n",
    "    base   = data.get('infos_basicas', {})\n",
    "    perso  = data.get('informacoes_pessoais', {})\n",
    "    form   = data.get('formacao_e_idiomas', {})\n",
    "    applicants_records.append({\n",
    "        'codigo_profissional': base.get('codigo_profissional', code_str),\n",
    "        'nome': base.get('nome'),\n",
    "        'email': base.get('email'),\n",
    "        'nivel_academico': form.get('nivel_academico'),\n",
    "        'nivel_ingles': form.get('nivel_ingles'),\n",
    "        'area_atuacao': perso.get('area_atuacao'),\n",
    "        'cv_pt': data.get('cv_pt', '')\n",
    "    })\n",
    "applicants = pd.DataFrame(applicants_records)\n",
    "print(f\"Applicants shape: {applicants.shape}\")"
   ]
  },
  {
   "cell_type": "markdown",
   "metadata": {
    "id": "dJxNx4lRnFMs"
   },
   "source": [
    "# 3.2 Flatten Vagas"
   ]
  },
  {
   "cell_type": "code",
   "execution_count": 28,
   "metadata": {
    "colab": {
     "base_uri": "https://localhost:8080/"
    },
    "executionInfo": {
     "elapsed": 133,
     "status": "ok",
     "timestamp": 1753143624337,
     "user": {
      "displayName": "Marcelo Ekami",
      "userId": "05653859940581393275"
     },
     "user_tz": 180
    },
    "id": "g45ov0n8h8Rc",
    "outputId": "bf571c96-bc2b-4473-e549-9365b571ae12"
   },
   "outputs": [
    {
     "name": "stdout",
     "output_type": "stream",
     "text": [
      "Vagas shape: (14081, 7)\n"
     ]
    }
   ],
   "source": [
    "vagas_records = []\n",
    "for id_str, data in vagas_json_raw.items():\n",
    "    info   = data.get('informacoes_basicas', {})\n",
    "    perfil = data.get('perfil_vaga', {})\n",
    "    vagas_records.append({\n",
    "        'id_vaga': int(id_str),\n",
    "        'titulo_vaga': info.get('titulo_vaga'),\n",
    "        'cliente': info.get('cliente'),\n",
    "        'prazo_contratacao': info.get('prazo_contratacao'),\n",
    "        'tipo_contratacao': info.get('tipo_contratacao'),\n",
    "        'senioridade': perfil.get('nivel profissional') or perfil.get('nivel_profissional'),\n",
    "        'area_atuacao': perfil.get('areas_atuacao') or perfil.get('area_atuacao')\n",
    "    })\n",
    "vagas = pd.DataFrame(vagas_records)\n",
    "print(f\"Vagas shape: {vagas.shape}\")"
   ]
  },
  {
   "cell_type": "markdown",
   "metadata": {
    "id": "Lgj48VOMnKVl"
   },
   "source": [
    "# 3.3 Flatten Prospects"
   ]
  },
  {
   "cell_type": "code",
   "execution_count": 29,
   "metadata": {
    "colab": {
     "base_uri": "https://localhost:8080/"
    },
    "executionInfo": {
     "elapsed": 687,
     "status": "ok",
     "timestamp": 1753143627029,
     "user": {
      "displayName": "Marcelo Ekami",
      "userId": "05653859940581393275"
     },
     "user_tz": 180
    },
    "id": "AdM_5CcIh_v_",
    "outputId": "efc0a04f-507d-4f50-9343-7e25c3e03a1a"
   },
   "outputs": [
    {
     "name": "stdout",
     "output_type": "stream",
     "text": [
      "Prospects shape: (53759, 8)\n"
     ]
    }
   ],
   "source": [
    "prospects_records = []\n",
    "for id_str, data in prospects_json_raw.items():\n",
    "    for p in data.get('prospects', []):\n",
    "        prospects_records.append({\n",
    "            'id_vaga': int(id_str),\n",
    "            'codigo_profissional': p.get('codigo'),\n",
    "            'nome_candidato': p.get('nome'),\n",
    "            'situacao_candidato': p.get('situacao_candidado'),\n",
    "            'data_candidatura': p.get('data_candidatura'),\n",
    "            'data_atualizacao': p.get('ultima_atualizacao'),\n",
    "            'comentario': p.get('comentario'),\n",
    "            'recrutador': p.get('recrutador')\n",
    "        })\n",
    "prospects = pd.DataFrame(prospects_records)\n",
    "print(f\"Prospects shape: {prospects.shape}\")"
   ]
  },
  {
   "cell_type": "markdown",
   "metadata": {
    "id": "s0DUy87KnTEG"
   },
   "source": [
    "# 4. Integração dos dados"
   ]
  },
  {
   "cell_type": "code",
   "execution_count": 30,
   "metadata": {
    "colab": {
     "base_uri": "https://localhost:8080/"
    },
    "executionInfo": {
     "elapsed": 255,
     "status": "ok",
     "timestamp": 1753143629630,
     "user": {
      "displayName": "Marcelo Ekami",
      "userId": "05653859940581393275"
     },
     "user_tz": 180
    },
    "id": "u63ez_dLiEIr",
    "outputId": "a97cfe4c-ebaa-49f9-d550-8dc97ed8686b"
   },
   "outputs": [
    {
     "name": "stdout",
     "output_type": "stream",
     "text": [
      "Dataset integrado: (53759, 20)\n"
     ]
    }
   ],
   "source": [
    "# Unir prospects com applicants e vagas\n",
    "df = prospects.merge(applicants, on='codigo_profissional', how='left')\n",
    "df = df.merge(vagas, on='id_vaga', how='left')\n",
    "print(f\"Dataset integrado: {df.shape}\")"
   ]
  },
  {
   "cell_type": "markdown",
   "metadata": {
    "id": "AqFgW5bnnYBC"
   },
   "source": [
    "# 5. Pré-processamento"
   ]
  },
  {
   "cell_type": "markdown",
   "metadata": {
    "id": "HiEGb1t0naZv"
   },
   "source": [
    "## 5.1 Limpeza de textos e datas\n"
   ]
  },
  {
   "cell_type": "code",
   "execution_count": 31,
   "metadata": {
    "colab": {
     "base_uri": "https://localhost:8080/"
    },
    "executionInfo": {
     "elapsed": 28488,
     "status": "ok",
     "timestamp": 1753143660264,
     "user": {
      "displayName": "Marcelo Ekami",
      "userId": "05653859940581393275"
     },
     "user_tz": 180
    },
    "id": "Cdw_OE9WiZKV",
    "outputId": "7e2935f5-b450-4b79-8168-39e547f3e952"
   },
   "outputs": [],
   "source": [
    "# Normalize texto removendo acentos e caracteres especiais\n",
    "def normalize_text(text):\n",
    "    if pd.isna(text): return ''\n",
    "    txt = str(text).lower()\n",
    "    txt = re.sub(r\"[\\u0300-\\u036f]\", '', txt)\n",
    "    txt = re.sub(r\"[^a-z0-9 ]\", ' ', txt)\n",
    "    return re.sub(r\"\\s+\", ' ', txt).strip()\n",
    "\n",
    "text_cols = ['cv_pt', 'titulo_vaga']\n",
    "for col in text_cols:\n",
    "    df[col + '_clean'] = df[col].apply(normalize_text)\n",
    "\n",
    "# Converter datas\n",
    "# Padronizar separadores e converter usando formato explícito\n",
    "df[date_cols] = df[date_cols].apply(lambda col: col.astype(str).str.replace('/', '-'))\n",
    "for col in date_cols:\n",
    "    df[col] = pd.to_datetime(\n",
    "        df[col],\n",
    "        format='%d-%m-%Y',\n",
    "        dayfirst=True,\n",
    "        errors='coerce'\n",
    "    )\n",
    "date_cols = ['data_candidatura', 'data_atualizacao', 'prazo_contratacao']\n",
    "for col in date_cols:\n",
    "    df[col] = pd.to_datetime(df[col], dayfirst=True, errors='coerce')\n",
    "\n",
    "# Criar target binário (1=Contratado)\n",
    "sucesso = df['situacao_candidato'].str.contains('Contratado', case=False, na=False)\n",
    "df['target'] = sucesso.astype(int)"
   ]
  },
  {
   "cell_type": "markdown",
   "metadata": {
    "id": "bEcfq6WjntDC"
   },
   "source": [
    "## 5.2 Tratamento de valores ausentes"
   ]
  },
  {
   "cell_type": "code",
   "execution_count": 32,
   "metadata": {
    "executionInfo": {
     "elapsed": 38,
     "status": "ok",
     "timestamp": 1753143665504,
     "user": {
      "displayName": "Marcelo Ekami",
      "userId": "05653859940581393275"
     },
     "user_tz": 180
    },
    "id": "VcwQLH61iguu"
   },
   "outputs": [],
   "source": [
    "# Categorias e datas\n",
    "df['nivel_ingles']    = df['nivel_ingles'].fillna('Desconhecido')\n",
    "df['nivel_academico'] = df['nivel_academico'].fillna('Desconhecido')\n",
    "for col in ['data_candidatura', 'data_atualizacao']:\n",
    "    df[col] = df[col].fillna(df[col].median())"
   ]
  },
  {
   "cell_type": "markdown",
   "metadata": {
    "id": "QwAt7ht4nz2t"
   },
   "source": [
    "# 6. Análise Exploratória de Dados (EDA)"
   ]
  },
  {
   "cell_type": "code",
   "execution_count": 33,
   "metadata": {
    "colab": {
     "base_uri": "https://localhost:8080/"
    },
    "executionInfo": {
     "elapsed": 119,
     "status": "ok",
     "timestamp": 1753143667713,
     "user": {
      "displayName": "Marcelo Ekami",
      "userId": "05653859940581393275"
     },
     "user_tz": 180
    },
    "id": "Zc1uEZgZiker",
    "outputId": "3404f728-5fbc-4dab-df75-7af02efb9c5b"
   },
   "outputs": [
    {
     "name": "stdout",
     "output_type": "stream",
     "text": [
      "Distribuição target:\n",
      " target\n",
      "0    0.944493\n",
      "1    0.055507\n",
      "Name: proportion, dtype: float64\n",
      "Senioridade:\n",
      " senioridade\n",
      "Sênior                    20978\n",
      "Analista                  17887\n",
      "Pleno                      9852\n",
      "Júnior                     1984\n",
      "Especialista               1124\n",
      "Assistente                  764\n",
      "Gerente                     586\n",
      "Líder                       273\n",
      "Coordenador                 113\n",
      "Supervisor                  100\n",
      "Auxiliar                     56\n",
      "Trainee                      12\n",
      "Aprendiz                      5\n",
      "Técnico de Nível Médio        1\n",
      "Name: count, dtype: int64\n",
      "Inglês vs Sucesso:\n",
      " target                0         1\n",
      "nivel_ingles                     \n",
      "               0.940359  0.059641\n",
      "Avançado       0.967467  0.032533\n",
      "Básico         0.956036  0.043964\n",
      "Desconhecido   0.935711  0.064289\n",
      "Fluente        0.955462  0.044538\n",
      "Intermediário  0.968093  0.031907\n",
      "Nenhum         0.957576  0.042424\n"
     ]
    },
    {
     "ename": "KeyError",
     "evalue": "'target'",
     "output_type": "error",
     "traceback": [
      "\u001b[1;31m---------------------------------------------------------------------------\u001b[0m",
      "\u001b[1;31mKeyError\u001b[0m                                  Traceback (most recent call last)",
      "File \u001b[1;32m~\\Downloads\\Datathon\\app\\venv\\lib\\site-packages\\pandas\\core\\indexes\\base.py:3653\u001b[0m, in \u001b[0;36mIndex.get_loc\u001b[1;34m(self, key)\u001b[0m\n\u001b[0;32m   3652\u001b[0m \u001b[38;5;28;01mtry\u001b[39;00m:\n\u001b[1;32m-> 3653\u001b[0m     \u001b[38;5;28;01mreturn\u001b[39;00m \u001b[38;5;28;43mself\u001b[39;49m\u001b[38;5;241;43m.\u001b[39;49m\u001b[43m_engine\u001b[49m\u001b[38;5;241;43m.\u001b[39;49m\u001b[43mget_loc\u001b[49m\u001b[43m(\u001b[49m\u001b[43mcasted_key\u001b[49m\u001b[43m)\u001b[49m\n\u001b[0;32m   3654\u001b[0m \u001b[38;5;28;01mexcept\u001b[39;00m \u001b[38;5;167;01mKeyError\u001b[39;00m \u001b[38;5;28;01mas\u001b[39;00m err:\n",
      "File \u001b[1;32m~\\Downloads\\Datathon\\app\\venv\\lib\\site-packages\\pandas\\_libs\\index.pyx:147\u001b[0m, in \u001b[0;36mpandas._libs.index.IndexEngine.get_loc\u001b[1;34m()\u001b[0m\n",
      "File \u001b[1;32m~\\Downloads\\Datathon\\app\\venv\\lib\\site-packages\\pandas\\_libs\\index.pyx:176\u001b[0m, in \u001b[0;36mpandas._libs.index.IndexEngine.get_loc\u001b[1;34m()\u001b[0m\n",
      "File \u001b[1;32mpandas\\_libs\\hashtable_class_helper.pxi:7080\u001b[0m, in \u001b[0;36mpandas._libs.hashtable.PyObjectHashTable.get_item\u001b[1;34m()\u001b[0m\n",
      "File \u001b[1;32mpandas\\_libs\\hashtable_class_helper.pxi:7088\u001b[0m, in \u001b[0;36mpandas._libs.hashtable.PyObjectHashTable.get_item\u001b[1;34m()\u001b[0m\n",
      "\u001b[1;31mKeyError\u001b[0m: 'target'",
      "\nThe above exception was the direct cause of the following exception:\n",
      "\u001b[1;31mKeyError\u001b[0m                                  Traceback (most recent call last)",
      "Cell \u001b[1;32mIn[33], line 5\u001b[0m\n\u001b[0;32m      3\u001b[0m \u001b[38;5;28mprint\u001b[39m(\u001b[38;5;124m\"\u001b[39m\u001b[38;5;124mInglês vs Sucesso:\u001b[39m\u001b[38;5;130;01m\\n\u001b[39;00m\u001b[38;5;124m\"\u001b[39m, pd\u001b[38;5;241m.\u001b[39mcrosstab(df[\u001b[38;5;124m'\u001b[39m\u001b[38;5;124mnivel_ingles\u001b[39m\u001b[38;5;124m'\u001b[39m], df[\u001b[38;5;124m'\u001b[39m\u001b[38;5;124mtarget\u001b[39m\u001b[38;5;124m'\u001b[39m], normalize\u001b[38;5;241m=\u001b[39m\u001b[38;5;124m'\u001b[39m\u001b[38;5;124mindex\u001b[39m\u001b[38;5;124m'\u001b[39m))\n\u001b[0;32m      4\u001b[0m numeric_cols \u001b[38;5;241m=\u001b[39m df\u001b[38;5;241m.\u001b[39mselect_dtypes(include\u001b[38;5;241m=\u001b[39m[\u001b[38;5;124m'\u001b[39m\u001b[38;5;124mint64\u001b[39m\u001b[38;5;124m'\u001b[39m,\u001b[38;5;124m'\u001b[39m\u001b[38;5;124mfloat64\u001b[39m\u001b[38;5;124m'\u001b[39m])\u001b[38;5;241m.\u001b[39mcolumns\n\u001b[1;32m----> 5\u001b[0m \u001b[38;5;28mprint\u001b[39m(\u001b[38;5;124m\"\u001b[39m\u001b[38;5;124mCorrelação numérica:\u001b[39m\u001b[38;5;130;01m\\n\u001b[39;00m\u001b[38;5;124m\"\u001b[39m, \u001b[43mdf\u001b[49m\u001b[43m[\u001b[49m\u001b[43mnumeric_cols\u001b[49m\u001b[43m]\u001b[49m\u001b[38;5;241;43m.\u001b[39;49m\u001b[43mcorr\u001b[49m\u001b[43m(\u001b[49m\u001b[43m)\u001b[49m\u001b[43m[\u001b[49m\u001b[38;5;124;43m'\u001b[39;49m\u001b[38;5;124;43mtarget\u001b[39;49m\u001b[38;5;124;43m'\u001b[39;49m\u001b[43m]\u001b[49m\u001b[38;5;241m.\u001b[39msort_values(ascending\u001b[38;5;241m=\u001b[39m\u001b[38;5;28;01mFalse\u001b[39;00m))\n",
      "File \u001b[1;32m~\\Downloads\\Datathon\\app\\venv\\lib\\site-packages\\pandas\\core\\frame.py:3761\u001b[0m, in \u001b[0;36mDataFrame.__getitem__\u001b[1;34m(self, key)\u001b[0m\n\u001b[0;32m   3759\u001b[0m \u001b[38;5;28;01mif\u001b[39;00m \u001b[38;5;28mself\u001b[39m\u001b[38;5;241m.\u001b[39mcolumns\u001b[38;5;241m.\u001b[39mnlevels \u001b[38;5;241m>\u001b[39m \u001b[38;5;241m1\u001b[39m:\n\u001b[0;32m   3760\u001b[0m     \u001b[38;5;28;01mreturn\u001b[39;00m \u001b[38;5;28mself\u001b[39m\u001b[38;5;241m.\u001b[39m_getitem_multilevel(key)\n\u001b[1;32m-> 3761\u001b[0m indexer \u001b[38;5;241m=\u001b[39m \u001b[38;5;28;43mself\u001b[39;49m\u001b[38;5;241;43m.\u001b[39;49m\u001b[43mcolumns\u001b[49m\u001b[38;5;241;43m.\u001b[39;49m\u001b[43mget_loc\u001b[49m\u001b[43m(\u001b[49m\u001b[43mkey\u001b[49m\u001b[43m)\u001b[49m\n\u001b[0;32m   3762\u001b[0m \u001b[38;5;28;01mif\u001b[39;00m is_integer(indexer):\n\u001b[0;32m   3763\u001b[0m     indexer \u001b[38;5;241m=\u001b[39m [indexer]\n",
      "File \u001b[1;32m~\\Downloads\\Datathon\\app\\venv\\lib\\site-packages\\pandas\\core\\indexes\\base.py:3655\u001b[0m, in \u001b[0;36mIndex.get_loc\u001b[1;34m(self, key)\u001b[0m\n\u001b[0;32m   3653\u001b[0m     \u001b[38;5;28;01mreturn\u001b[39;00m \u001b[38;5;28mself\u001b[39m\u001b[38;5;241m.\u001b[39m_engine\u001b[38;5;241m.\u001b[39mget_loc(casted_key)\n\u001b[0;32m   3654\u001b[0m \u001b[38;5;28;01mexcept\u001b[39;00m \u001b[38;5;167;01mKeyError\u001b[39;00m \u001b[38;5;28;01mas\u001b[39;00m err:\n\u001b[1;32m-> 3655\u001b[0m     \u001b[38;5;28;01mraise\u001b[39;00m \u001b[38;5;167;01mKeyError\u001b[39;00m(key) \u001b[38;5;28;01mfrom\u001b[39;00m\u001b[38;5;250m \u001b[39m\u001b[38;5;21;01merr\u001b[39;00m\n\u001b[0;32m   3656\u001b[0m \u001b[38;5;28;01mexcept\u001b[39;00m \u001b[38;5;167;01mTypeError\u001b[39;00m:\n\u001b[0;32m   3657\u001b[0m     \u001b[38;5;66;03m# If we have a listlike key, _check_indexing_error will raise\u001b[39;00m\n\u001b[0;32m   3658\u001b[0m     \u001b[38;5;66;03m#  InvalidIndexError. Otherwise we fall through and re-raise\u001b[39;00m\n\u001b[0;32m   3659\u001b[0m     \u001b[38;5;66;03m#  the TypeError.\u001b[39;00m\n\u001b[0;32m   3660\u001b[0m     \u001b[38;5;28mself\u001b[39m\u001b[38;5;241m.\u001b[39m_check_indexing_error(key)\n",
      "\u001b[1;31mKeyError\u001b[0m: 'target'"
     ]
    }
   ],
   "source": [
    "print(\"Distribuição target:\\n\", df['target'].value_counts(normalize=True))\n",
    "print(\"Senioridade:\\n\", df['senioridade'].value_counts())\n",
    "print(\"Inglês vs Sucesso:\\n\", pd.crosstab(df['nivel_ingles'], df['target'], normalize='index'))\n",
    "numeric_cols = df.select_dtypes(include=['int64','float64']).columns\n",
    "print(\"Correlação numérica:\\n\", df[numeric_cols].corr()['target'].sort_values(ascending=False))"
   ]
  },
  {
   "cell_type": "markdown",
   "metadata": {
    "id": "EP9xENnTkZel"
   },
   "source": [
    "# 7. Feature Engineering"
   ]
  },
  {
   "cell_type": "markdown",
   "metadata": {
    "id": "RlX9O1IDn-v_"
   },
   "source": [
    "# 7.1 Extrair experiência em anos do CV"
   ]
  },
  {
   "cell_type": "code",
   "execution_count": 14,
   "metadata": {
    "executionInfo": {
     "elapsed": 1903,
     "status": "ok",
     "timestamp": 1753143683144,
     "user": {
      "displayName": "Marcelo Ekami",
      "userId": "05653859940581393275"
     },
     "user_tz": 180
    },
    "id": "01x_4nkpim1U"
   },
   "outputs": [],
   "source": [
    "def extract_exp(text):\n",
    "    m = re.search(r\"(\\d+) anos?\", str(text))\n",
    "    return int(m.group(1)) if m else np.nan\n",
    "\n",
    "df['exp_anos'] = df['cv_pt_clean'].apply(extract_exp)\n",
    "df['exp_anos'] = df['exp_anos'].fillna(df['exp_anos'].median())"
   ]
  },
  {
   "cell_type": "markdown",
   "metadata": {
    "id": "43GqUZF0oMIL"
   },
   "source": [
    "# 7.2 Similaridade textual (memória linear)"
   ]
  },
  {
   "cell_type": "code",
   "execution_count": 15,
   "metadata": {
    "executionInfo": {
     "elapsed": 38736,
     "status": "ok",
     "timestamp": 1753143724715,
     "user": {
      "displayName": "Marcelo Ekami",
      "userId": "05653859940581393275"
     },
     "user_tz": 180
    },
    "id": "uPClPZ6XkhyC"
   },
   "outputs": [],
   "source": [
    "vectorizer = TfidfVectorizer(max_features=5000)\n",
    "corpus = pd.concat([df['cv_pt_clean'], df['titulo_vaga_clean']]).unique()\n",
    "vectorizer.fit(corpus)\n",
    "\n",
    "tfidf_cv    = vectorizer.transform(df['cv_pt_clean'])\n",
    "tfidf_title = vectorizer.transform(df['titulo_vaga_clean'])\n",
    "sim = tfidf_cv.multiply(tfidf_title).sum(axis=1)\n",
    "df['sim_text'] = np.array(sim).ravel()"
   ]
  },
  {
   "cell_type": "markdown",
   "metadata": {
    "id": "L187istQoTqi"
   },
   "source": [
    "# 7.3 One-hot encoding em variáveis categóricas"
   ]
  },
  {
   "cell_type": "code",
   "execution_count": 16,
   "metadata": {
    "executionInfo": {
     "elapsed": 224,
     "status": "ok",
     "timestamp": 1753143736217,
     "user": {
      "displayName": "Marcelo Ekami",
      "userId": "05653859940581393275"
     },
     "user_tz": 180
    },
    "id": "4MTWMY2kkm-a"
   },
   "outputs": [],
   "source": [
    "for col in ['senioridade', 'nivel_ingles', 'area_atuacao']:\n",
    "    if col not in df.columns:\n",
    "        df[col] = 'Desconhecido'\n",
    "cat_cols = ['senioridade','nivel_ingles','area_atuacao']\n",
    "ohe = OneHotEncoder(sparse_output=False, handle_unknown='ignore')\n",
    "ohe_feats = ohe.fit_transform(df[cat_cols])\n",
    "f_names = ohe.get_feature_names_out(cat_cols)\n",
    "df_ohe = pd.DataFrame(ohe_feats, columns=f_names, index=df.index)\n",
    "df = pd.concat([df, df_ohe], axis=1)"
   ]
  },
  {
   "cell_type": "markdown",
   "metadata": {
    "id": "eMSIxDjpoYjr"
   },
   "source": [
    "# 7.4 Label Encoding do cliente"
   ]
  },
  {
   "cell_type": "code",
   "execution_count": 17,
   "metadata": {
    "executionInfo": {
     "elapsed": 26,
     "status": "ok",
     "timestamp": 1753143738252,
     "user": {
      "displayName": "Marcelo Ekami",
      "userId": "05653859940581393275"
     },
     "user_tz": 180
    },
    "id": "759dvJ62kpNH"
   },
   "outputs": [],
   "source": [
    "le = LabelEncoder()\n",
    "df['cliente_encoded'] = le.fit_transform(df['cliente'])"
   ]
  },
  {
   "cell_type": "markdown",
   "metadata": {
    "id": "93SpkE3fodUu"
   },
   "source": [
    "# 8. Preparação final do dataset"
   ]
  },
  {
   "cell_type": "code",
   "execution_count": 18,
   "metadata": {
    "colab": {
     "base_uri": "https://localhost:8080/"
    },
    "executionInfo": {
     "elapsed": 1075,
     "status": "ok",
     "timestamp": 1753143741365,
     "user": {
      "displayName": "Marcelo Ekami",
      "userId": "05653859940581393275"
     },
     "user_tz": 180
    },
    "id": "gP2m-b9ckrna",
    "outputId": "92cc027b-1a2c-4131-9a18-4c73e4772ae9"
   },
   "outputs": [
    {
     "name": "stdout",
     "output_type": "stream",
     "text": [
      "Shape X: (53759, 26), y: (53759,)\n",
      "Pré-processamento, EDA e engenharia de features concluídos e artefatos salvos.\n"
     ]
    }
   ],
   "source": [
    "feature_cols = ['exp_anos','sim_text','cliente_encoded'] + list(f_names)\n",
    "X = df[feature_cols]\n",
    "y = df['target']\n",
    "print(f\"Shape X: {X.shape}, y: {y.shape}\")\n",
    "\n",
    "# Salvar datasets\n",
    "X.to_csv('features_preprocessed.csv', index=False)\n",
    "y.to_csv('target.csv', index=False)\n",
    "\n",
    "# Exportar artefatos para API\n",
    "joblib.dump(vectorizer, 'vectorizer.joblib')\n",
    "joblib.dump(ohe, 'ohe.joblib')\n",
    "joblib.dump(le, 'le.joblib')\n",
    "joblib.dump(feature_cols, 'feature_cols.joblib')\n",
    "\n",
    "print(\"Pré-processamento, EDA e engenharia de features concluídos e artefatos salvos.\")"
   ]
  }
 ],
 "metadata": {
  "colab": {
   "authorship_tag": "ABX9TyOKUqG7CCkbs5t9jD8647aw",
   "provenance": []
  },
  "kernelspec": {
   "display_name": "Python 3 (ipykernel)",
   "language": "python",
   "name": "python3"
  },
  "language_info": {
   "codemirror_mode": {
    "name": "ipython",
    "version": 3
   },
   "file_extension": ".py",
   "mimetype": "text/x-python",
   "name": "python",
   "nbconvert_exporter": "python",
   "pygments_lexer": "ipython3",
   "version": "3.10.0"
  }
 },
 "nbformat": 4,
 "nbformat_minor": 4
}
